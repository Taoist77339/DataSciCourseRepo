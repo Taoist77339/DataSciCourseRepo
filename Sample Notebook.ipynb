{
    "cells": [
        {
            "cell_type": "markdown",
            "metadata": {
                "collapsed": true
            },
            "source": "# H1 My Jupyter Notebook on IBM Watson Studio"
        },
        {
            "cell_type": "markdown",
            "metadata": {},
            "source": "# **Jason Sanders**\n# **Project Manager**"
        },
        {
            "cell_type": "markdown",
            "metadata": {},
            "source": "*I am interested in data science, as I can be applied to the commercial construction industry.  I wish to apply the tools to better estimate, and schedule projects.*"
        },
        {
            "cell_type": "markdown",
            "metadata": {},
            "source": "# H3 The code below will print Hello, world!"
        },
        {
            "cell_type": "code",
            "execution_count": 22,
            "metadata": {
                "scrolled": true
            },
            "outputs": [
                {
                    "name": "stdout",
                    "output_type": "stream",
                    "text": "Hello, world!\n"
                }
            ],
            "source": "print(\"Hello, world!\")"
        },
        {
            "cell_type": "markdown",
            "metadata": {},
            "source": "[Follow this link to search for stuff](https://www.google.com)\n\n[Follow this link is you need Friends](https://www.facebook.com)\n\n[Follow this link to get your new!](https://www.wsj.com)\n"
        },
        {
            "cell_type": "code",
            "execution_count": 21,
            "metadata": {},
            "outputs": [
                {
                    "name": "stdout",
                    "output_type": "stream",
                    "text": "Thank you for your time!\n"
                }
            ],
            "source": "print(\"Thank you for your time!\")"
        }
    ],
    "metadata": {
        "kernelspec": {
            "display_name": "Python 3.8",
            "language": "python",
            "name": "python3"
        },
        "language_info": {
            "codemirror_mode": {
                "name": "ipython",
                "version": 3
            },
            "file_extension": ".py",
            "mimetype": "text/x-python",
            "name": "python",
            "nbconvert_exporter": "python",
            "pygments_lexer": "ipython3",
            "version": "3.8.12"
        }
    },
    "nbformat": 4,
    "nbformat_minor": 1
}